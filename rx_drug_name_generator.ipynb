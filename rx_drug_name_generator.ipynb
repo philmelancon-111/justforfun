{
 "cells": [
  {
   "cell_type": "markdown",
   "metadata": {},
   "source": [
    "## Drug Name Generator\n",
    "\n",
    "Using the FDA Orangebook as a training data set, found [here](https://www.fda.gov/drugs/drug-approvals-and-databases/orange-book-data-files)\n",
    "\n",
    "Following steps outlined in Andrej Karpathy's YouTube series, [Neural Networks: Zero to Hero](https://www.youtube.com/playlist?list=PLAqhIrjkxbuWI23v9cThsA9GvCAUhRvKZ)"
   ]
  },
  {
   "cell_type": "code",
   "execution_count": 5,
   "metadata": {},
   "outputs": [],
   "source": [
    "import re\n",
    "import torch\n",
    "import torch.nn.functional as F \n",
    "\n",
    "drug_names = [re.sub(r'[^a-z]', '', line.split(' ')[0].lower()) for line in open('fda_orangebook.txt', 'r').read().splitlines()]    #  take the first word of each line, remove non-alphabetic characters, convert to lowercase\n",
    "drug_names = list(dict.fromkeys(drug_names)) # remove duplicates\n",
    "\n",
    "# drug_names[:10]"
   ]
  },
  {
   "cell_type": "code",
   "execution_count": 26,
   "metadata": {},
   "outputs": [],
   "source": [
    "# build vocabulary of characters from the file, separating each name by '.', and map each character to an integer\n",
    "chars = sorted(list(set(''.join(drug_names))))\n",
    "char2int = {c: i+1 for i, c in enumerate(chars)}    # i+1 because we want to reserve 0 for \"padding\" between names\n",
    "char2int['.'] = 0\n",
    "int2char = {i: c for c, i in char2int.items()}\n",
    "# print(int2char)\n",
    "# len(int2char)"
   ]
  },
  {
   "cell_type": "code",
   "execution_count": 19,
   "metadata": {},
   "outputs": [],
   "source": [
    "#####################################################\n",
    "# Build the Dataset\n",
    "\n",
    "block_size = 3                              # sliding window: the number of characters we'll use to predict the next character in the sequence\n",
    "X, Y = [], []\n",
    "\n",
    "for d in drug_names:\n",
    "    context = [0] * block_size\n",
    "    for ch in d + '.':\n",
    "        idx = char2int[ch]\n",
    "        X.append(context)\n",
    "        Y.append(idx)\n",
    "        context = context[1:] + [idx]       # update the context with the current character\n",
    "\n",
    "X = torch.tensor(X)\n",
    "Y = torch.tensor(Y)\n",
    "\n",
    "# X.shape, Y.shape"
   ]
  },
  {
   "cell_type": "code",
   "execution_count": 20,
   "metadata": {},
   "outputs": [],
   "source": [
    "#####################################################\n",
    "# Define Functions\n",
    "# make our code a lil easier to read and our model easier to optimize later (eventually)\n",
    "\n",
    "def forwardPass(C, X, W1, b1, W2, b2, dims, block_size, batch):\n",
    "    # Forward pass\n",
    "    emb = C[X[batch]]                                                   # batching will keep this tensor at a manageable size and help to efficiently train the model\n",
    "    h = torch.tanh(emb.view(-1, (dims * block_size)) @ W1 + b1)\n",
    "    logits = h @ W2 + b2\n",
    "    loss = F.cross_entropy(logits, Y[batch])\n",
    "    return loss\n",
    "\n",
    "def backwardPass(loss, parameters):\n",
    "    # Backward pass\n",
    "    for p in parameters:\n",
    "        p.grad = None                                                   # clear the gradients of the parameters before calculating them\n",
    "    loss.backward()\n",
    "\n",
    "def updateParams(parameters, learning_rate=0.01):\n",
    "    # Update the parameters\n",
    "    for p in parameters:\n",
    "        p.data += -learning_rate * p.grad                               # update the parameters using the gradients at learning rate == .01 (arbitrarily chosen, could be optimized)\n"
   ]
  },
  {
   "cell_type": "code",
   "execution_count": 21,
   "metadata": {},
   "outputs": [],
   "source": [
    "#####################################################\n",
    "# (Re)Set Parameters\n",
    "\n",
    "dims = 10                                           # the number of dimensions for our embeddings\n",
    "neurons = 200                                       # the number of neurons in our hidden layer\n",
    "vocab = len(int2char)                               # the number of unique characters in our vocabulary\n",
    "\n",
    "C = torch.randn(vocab, dims)                        # the lookup table for embeddings, initially populated with random values\n",
    "W1 = torch.rand((dims * block_size), neurons)       # our first set of weights\n",
    "b1 = torch.randn(neurons)                           # our first set of biases, one for each neuron\n",
    "W2 = torch.randn(neurons, vocab)                    # our second set of weights, one for each character in our vocabulary\n",
    "b2 = torch.randn(vocab)                             # our second set of biases, one for each of the 27 output neurons\n",
    "\n",
    "parameters = [C, W1, b1, W2, b2]"
   ]
  },
  {
   "cell_type": "code",
   "execution_count": 22,
   "metadata": {},
   "outputs": [
    {
     "name": "stdout",
     "output_type": "stream",
     "text": [
      "loss = 2.4172518253326416\n"
     ]
    }
   ],
   "source": [
    "####################################################\n",
    "# Train the Network (Update Parameters)\n",
    "# run this a few times to train the model, checking the loss output each time to see if it's decreasing (getting better)\n",
    "# if the loss is increasing, you may need to adjust the learning rate or the number of training loops\n",
    "# note: avoid running too many times to avoid overfitting; reset the parameters in the cell above to start fresh\n",
    "\n",
    "for p in parameters:\n",
    "    p.requires_grad = True                          # we'll need to calculate the gradients of the parameters during training\n",
    "\n",
    "for _ in range(30000):                              # number of training loops (30k runs in ~45 secs on my MacBook Air)\n",
    "    # mini-batch                                    \n",
    "    batch = torch.randint(0, X.shape[0], (100,))    # we'll use mini-batches of 100 examples to more efficiently train the model\n",
    "\n",
    "    # forward pass\n",
    "    loss = forwardPass(C, X, W1, b1, W2, b2, dims, block_size, batch)\n",
    "    \n",
    "    # backward pass\n",
    "    backwardPass(loss, parameters)\n",
    "    \n",
    "    # update the parameters\n",
    "    updateParams(parameters, learning_rate=0.1)     # learning rate == .1 (sorta arbitrarily chosen, could be optimized --> try re-running with smaller weights)\n",
    "\n",
    "\n",
    "print(f'loss = {loss.item()}')                      # the final loss after training (lower is better --> can you get it under 2???)\n"
   ]
  },
  {
   "cell_type": "code",
   "execution_count": 29,
   "metadata": {},
   "outputs": [
    {
     "data": {
      "text/plain": [
       "['hlorechnacidolexys',\n",
       " 'id',\n",
       " 'imale',\n",
       " 'enlalmin',\n",
       " 'lurandysozide',\n",
       " 'eine',\n",
       " 'iptrone',\n",
       " 'etasytospil',\n",
       " 'thy',\n",
       " 'hine']"
      ]
     },
     "execution_count": 29,
     "metadata": {},
     "output_type": "execute_result"
    }
   ],
   "source": [
    "####################################################\n",
    "# Sampling the Model ---> Generate Some New Drug Names!\n",
    "# run this cell as many times as you like to generate new drug names\n",
    "\n",
    "drugs = []\n",
    "\n",
    "for _ in range(10):\n",
    "    output = []\n",
    "    context = [0] * block_size\n",
    "    while True:\n",
    "        emb = C[torch.tensor([context])]\n",
    "        h = torch.tanh(emb.view(1, -1) @ W1 + b1)\n",
    "        logits = h @ W2 + b2\n",
    "        probs = F.softmax(logits, dim=1)\n",
    "        idx = torch.multinomial(probs, num_samples=1).item()\n",
    "        context = context[1:] + [idx]\n",
    "        output.append(idx)\n",
    "        if idx == 0:\n",
    "            output = ''.join(int2char[i] for i in output[1:])\n",
    "            output = output[:-1]\n",
    "            break\n",
    "\n",
    "    drugs.append(output)\n",
    "\n",
    "print(drugs)\n",
    "\n",
    "# my faves:\n",
    "# janarta, starigo, iginabine, omiderex, iperidazole, ipronazole, emcotrol, traelela, odopa, robinamide, isopril, eofulphenicopofuega"
   ]
  }
 ],
 "metadata": {
  "kernelspec": {
   "display_name": "Python 3",
   "language": "python",
   "name": "python3"
  },
  "language_info": {
   "codemirror_mode": {
    "name": "ipython",
    "version": 3
   },
   "file_extension": ".py",
   "mimetype": "text/x-python",
   "name": "python",
   "nbconvert_exporter": "python",
   "pygments_lexer": "ipython3",
   "version": "3.9.6"
  }
 },
 "nbformat": 4,
 "nbformat_minor": 2
}
